{
 "cells": [
  {
   "cell_type": "code",
   "execution_count": null,
   "id": "0cdbfda3-2b81-4b6b-b214-484da91bb4ee",
   "metadata": {},
   "outputs": [
    {
     "name": "stdout",
     "output_type": "stream",
     "text": [
      "Defaulting to user installation because normal site-packages is not writeableNote: you may need to restart the kernel to use updated packages.\n",
      "\n",
      "Requirement already satisfied: pillow in c:\\programdata\\anaconda3\\lib\\site-packages (10.4.0)\n"
     ]
    }
   ],
   "source": [
    "pip install pillow\n"
   ]
  },
  {
   "cell_type": "code",
   "execution_count": null,
   "id": "df09ab6b-9edc-477e-9422-4af8418c3468",
   "metadata": {},
   "outputs": [],
   "source": [
    "# Steganography Project - Hiding Information in Image (LSB Method)\n",
    "\n",
    "from PIL import Image\n"
   ]
  },
  {
   "cell_type": "code",
   "execution_count": null,
   "id": "65020316-f3c1-45fd-9520-95436f3ba5a4",
   "metadata": {},
   "outputs": [],
   "source": [
    "# Convert message to binary\n",
    "def text_to_binary(message):\n",
    "    return ''.join([format(ord(char), '08b') for char in message])"
   ]
  },
  {
   "cell_type": "code",
   "execution_count": null,
   "id": "04783c57-2b10-4caf-ab2b-15a2378838d6",
   "metadata": {},
   "outputs": [],
   "source": [
    "# Convert binary to text\n",
    "def binary_to_text(binary_str):\n",
    "    chars = [binary_str[i:i+8] for i in range(0, len(binary_str), 8)]\n",
    "    return ''.join([chr(int(char, 2)) for char in chars])\n"
   ]
  },
  {
   "cell_type": "code",
   "execution_count": null,
   "id": "e6ac4653-30b0-49e2-b583-508b9f664135",
   "metadata": {},
   "outputs": [],
   "source": [
    "# Encode the message into image\n",
    "def encode_image(image_path, message, output_path):\n",
    "    image = Image.open(image_path)\n",
    "    if image.mode != 'RGB':\n",
    "        image = image.convert('RGB')\n",
    "    binary_message = text_to_binary(message) + '1111111111111110'  # Delimiter\n",
    "    data_index = 0\n",
    "    new_pixels = []\n",
    "\n",
    "    for pixel in list(image.getdata()):\n",
    "        r, g, b = pixel\n",
    "        new_rgb = []\n",
    "\n",
    "        for color in (r, g, b):\n",
    "            if data_index < len(binary_message):\n",
    "                lsb = binary_message[data_index]\n",
    "                new_color = (color & ~1) | int(lsb)\n",
    "                new_rgb.append(new_color)\n",
    "                data_index += 1\n",
    "            else:\n",
    "                new_rgb.append(color)\n",
    "\n",
    "        new_pixels.append(tuple(new_rgb))\n",
    "\n",
    "    if data_index < len(binary_message):\n",
    "        raise ValueError(\"Message is too long to encode in this image.\")\n",
    "\n",
    "    image.putdata(new_pixels)\n",
    "    image.save(output_path)\n",
    "    print(\"✅ Message encoded and saved to\", output_path)"
   ]
  },
  {
   "cell_type": "code",
   "execution_count": null,
   "id": "ccdf709f-6790-4b07-92c2-97545bbdcc4c",
   "metadata": {},
   "outputs": [],
   "source": [
    "# Decode the hidden message from image\n",
    "def decode_image(image_path):\n",
    "    image = Image.open(image_path)\n",
    "    binary_data = ''\n",
    "    for pixel in list(image.getdata()):\n",
    "        for color in pixel[:3]:\n",
    "            binary_data += str(color & 1)\n",
    "              # Split binary data by 8 bits\n",
    "    all_bytes = [binary_data[i:i+8] for i in range(0, len(binary_data), 8)]\n",
    "    \n",
    "    # Stop at delimiter\n",
    "    message = ''\n",
    "    for byte in all_bytes:\n",
    "        if byte == '11111110':  # Delimiter\n",
    "            break\n",
    "        message += chr(int(byte, 2))\n",
    "    return message"
   ]
  },
  {
   "cell_type": "code",
   "execution_count": null,
   "id": "e34cfa63-338a-4ad2-aeb7-c75670e569cc",
   "metadata": {},
   "outputs": [
    {
     "name": "stdout",
     "output_type": "stream",
     "text": [
      "✅ Message encoded and saved to encoded.png\n",
      "🔍 Decoded message: I am AYUSH KUMAR DEWANGAN ÿ\n"
     ]
    }
   ],
   "source": [
    "# --- Test the Steganography ---\n",
    "# Step 1: Encode\n",
    "input_image = \"download.jpeg\"      # Use your image here\n",
    "output_image = \"encoded.png\"\n",
    "secret_message = \"I am AYUSH KUMAR DEWANGAN \"\n",
    "\n",
    "encode_image(input_image, secret_message, output_image)\n",
    "\n",
    "# Step 2: Decode\n",
    "decoded_message = decode_image(output_image)\n",
    "print(\"🔍 Decoded message:\", decoded_message)"
   ]
  },
  {
   "cell_type": "code",
   "execution_count": null,
   "id": "af35515c-08b1-4be1-b609-53a56ea18c41",
   "metadata": {},
   "outputs": [],
   "source": []
  }
 ],
 "metadata": {
  "kernelspec": {
   "display_name": "base",
   "language": "python",
   "name": "python3"
  },
  "language_info": {
   "codemirror_mode": {
    "name": "ipython",
    "version": 3
   },
   "file_extension": ".py",
   "mimetype": "text/x-python",
   "name": "python",
   "nbconvert_exporter": "python",
   "pygments_lexer": "ipython3",
   "version": "3.12.7"
  }
 },
 "nbformat": 4,
 "nbformat_minor": 5
}
